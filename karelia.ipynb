{
 "cells": [
  {
   "cell_type": "markdown",
   "metadata": {},
   "source": [
    "## A brief exploration to a karelian data\n",
    "Dataset is a subset from [Learning from our Past](https://github.com/Learning-from-our-past) project's database which contains extracted data from *Siirtokarjalaisten tie* matrikel book series. Book series contains records of over 120 000 Finnish karelians who had to migrate from karelia to Finland after the Second World War when karelian regions of Finland were ceded to USSR.\n",
    "\n",
    "This notebook is just a practice to get feel of data exploration and simple machine learning and prediction methods.\n",
    "\n",
    "Data fetched with following SQL:\n",
    "```\n",
    "select \"kairaId\", sex, \"primaryPerson\", \"birthYear\", \"birthPlaceId\", \"deathYear\", \"ownHouse\",\n",
    "\"returnedKarelia\", \"previousMarriages\", \"pageNumber\", \"Place\".\"name\" as \"birthPlaceName\", \"region\" as \"birthRegion\", latitude,\n",
    "longitude, \"Profession\".id as \"professionId\", \"Profession\".\"name\" as \"profession\",\n",
    "  (select count(*) from \"Child\" where \"fatherId\" = \"Person\".id or \"motherId\" = \"Person\".id) as children_count,\n",
    "  (select count(*) from \"LivingRecord\" where \"personId\" = \"Person\".id) as migration_count\n",
    "from \"Person\"\n",
    "join \"Place\" on siirtokarjalaisten_tie.\"Person\".\"birthPlaceId\" = \"Place\".id\n",
    "join \"Profession\" on siirtokarjalaisten_tie.\"Person\".\"professionId\" = \"Profession\".id;\n",
    "```"
   ]
  },
  {
   "cell_type": "code",
   "execution_count": 113,
   "metadata": {
    "collapsed": true
   },
   "outputs": [],
   "source": [
    "import os\n",
    "import numpy as np\n",
    "import pandas as pd\n",
    "KARELIA_PATH = 'datasets/karelia'\n",
    "\n",
    "def load_karelia_data(karelia_path=KARELIA_PATH):\n",
    "    csv_path = os.path.join(karelia_path, \"person_data.csv\")\n",
    "    return pd.read_csv(csv_path, dtype={'sex': str, 'longitude': float, 'professionId': int, 'birthPlaceId': int})"
   ]
  },
  {
   "cell_type": "code",
   "execution_count": 114,
   "metadata": {},
   "outputs": [
    {
     "data": {
      "text/html": [
       "<div>\n",
       "<style>\n",
       "    .dataframe thead tr:only-child th {\n",
       "        text-align: right;\n",
       "    }\n",
       "\n",
       "    .dataframe thead th {\n",
       "        text-align: left;\n",
       "    }\n",
       "\n",
       "    .dataframe tbody tr th {\n",
       "        vertical-align: top;\n",
       "    }\n",
       "</style>\n",
       "<table border=\"1\" class=\"dataframe\">\n",
       "  <thead>\n",
       "    <tr style=\"text-align: right;\">\n",
       "      <th></th>\n",
       "      <th>kairaId</th>\n",
       "      <th>sex</th>\n",
       "      <th>primaryPerson</th>\n",
       "      <th>birthYear</th>\n",
       "      <th>birthPlaceId</th>\n",
       "      <th>deathYear</th>\n",
       "      <th>ownHouse</th>\n",
       "      <th>returnedKarelia</th>\n",
       "      <th>previousMarriages</th>\n",
       "      <th>pageNumber</th>\n",
       "      <th>birthPlaceName</th>\n",
       "      <th>birthRegion</th>\n",
       "      <th>latitude</th>\n",
       "      <th>longitude</th>\n",
       "      <th>professionId</th>\n",
       "      <th>profession</th>\n",
       "      <th>children_count</th>\n",
       "      <th>migration_count</th>\n",
       "    </tr>\n",
       "  </thead>\n",
       "  <tbody>\n",
       "    <tr>\n",
       "      <th>0</th>\n",
       "      <td>siirtokarjalaiset_1_691P</td>\n",
       "      <td>f</td>\n",
       "      <td>True</td>\n",
       "      <td>1916.0</td>\n",
       "      <td>207</td>\n",
       "      <td>NaN</td>\n",
       "      <td>False</td>\n",
       "      <td>false</td>\n",
       "      <td>false</td>\n",
       "      <td>47-49</td>\n",
       "      <td>Sortavalan mlk</td>\n",
       "      <td>karelia</td>\n",
       "      <td>NaN</td>\n",
       "      <td>NaN</td>\n",
       "      <td>2</td>\n",
       "      <td>emäntä</td>\n",
       "      <td>1</td>\n",
       "      <td>3</td>\n",
       "    </tr>\n",
       "    <tr>\n",
       "      <th>1</th>\n",
       "      <td>siirtokarjalaiset_1_691S_1</td>\n",
       "      <td>m</td>\n",
       "      <td>False</td>\n",
       "      <td>1921.0</td>\n",
       "      <td>49</td>\n",
       "      <td>NaN</td>\n",
       "      <td>NaN</td>\n",
       "      <td>unknown</td>\n",
       "      <td>unknown</td>\n",
       "      <td>47-49</td>\n",
       "      <td>Pöytyä</td>\n",
       "      <td>other</td>\n",
       "      <td>60.78499</td>\n",
       "      <td>22.54125</td>\n",
       "      <td>44</td>\n",
       "      <td>autoilija</td>\n",
       "      <td>1</td>\n",
       "      <td>0</td>\n",
       "    </tr>\n",
       "    <tr>\n",
       "      <th>2</th>\n",
       "      <td>siirtokarjalaiset_1_692P</td>\n",
       "      <td>m</td>\n",
       "      <td>True</td>\n",
       "      <td>1897.0</td>\n",
       "      <td>21</td>\n",
       "      <td>NaN</td>\n",
       "      <td>False</td>\n",
       "      <td>true</td>\n",
       "      <td>false</td>\n",
       "      <td>47-49</td>\n",
       "      <td>Säkkijärvi</td>\n",
       "      <td>karelia</td>\n",
       "      <td>60.62985</td>\n",
       "      <td>28.16534</td>\n",
       "      <td>5</td>\n",
       "      <td>eläkeläinen</td>\n",
       "      <td>2</td>\n",
       "      <td>2</td>\n",
       "    </tr>\n",
       "    <tr>\n",
       "      <th>3</th>\n",
       "      <td>siirtokarjalaiset_1_692S_1</td>\n",
       "      <td>f</td>\n",
       "      <td>False</td>\n",
       "      <td>1903.0</td>\n",
       "      <td>21</td>\n",
       "      <td>NaN</td>\n",
       "      <td>NaN</td>\n",
       "      <td>unknown</td>\n",
       "      <td>unknown</td>\n",
       "      <td>47-49</td>\n",
       "      <td>Säkkijärvi</td>\n",
       "      <td>karelia</td>\n",
       "      <td>60.62985</td>\n",
       "      <td>28.16534</td>\n",
       "      <td>70</td>\n",
       "      <td>ompelija</td>\n",
       "      <td>2</td>\n",
       "      <td>0</td>\n",
       "    </tr>\n",
       "    <tr>\n",
       "      <th>4</th>\n",
       "      <td>siirtokarjalaiset_1_693P</td>\n",
       "      <td>f</td>\n",
       "      <td>True</td>\n",
       "      <td>1898.0</td>\n",
       "      <td>369</td>\n",
       "      <td>NaN</td>\n",
       "      <td>False</td>\n",
       "      <td>true</td>\n",
       "      <td>false</td>\n",
       "      <td>47-49</td>\n",
       "      <td>Virolahti</td>\n",
       "      <td>other</td>\n",
       "      <td>60.52465</td>\n",
       "      <td>27.59480</td>\n",
       "      <td>46</td>\n",
       "      <td>sekatyöläinen</td>\n",
       "      <td>4</td>\n",
       "      <td>9</td>\n",
       "    </tr>\n",
       "  </tbody>\n",
       "</table>\n",
       "</div>"
      ],
      "text/plain": [
       "                      kairaId sex  primaryPerson  birthYear  birthPlaceId  \\\n",
       "0    siirtokarjalaiset_1_691P   f           True     1916.0           207   \n",
       "1  siirtokarjalaiset_1_691S_1   m          False     1921.0            49   \n",
       "2    siirtokarjalaiset_1_692P   m           True     1897.0            21   \n",
       "3  siirtokarjalaiset_1_692S_1   f          False     1903.0            21   \n",
       "4    siirtokarjalaiset_1_693P   f           True     1898.0           369   \n",
       "\n",
       "   deathYear ownHouse returnedKarelia previousMarriages pageNumber  \\\n",
       "0        NaN    False           false             false      47-49   \n",
       "1        NaN      NaN         unknown           unknown      47-49   \n",
       "2        NaN    False            true             false      47-49   \n",
       "3        NaN      NaN         unknown           unknown      47-49   \n",
       "4        NaN    False            true             false      47-49   \n",
       "\n",
       "   birthPlaceName birthRegion  latitude  longitude  professionId  \\\n",
       "0  Sortavalan mlk     karelia       NaN        NaN             2   \n",
       "1          Pöytyä       other  60.78499   22.54125            44   \n",
       "2      Säkkijärvi     karelia  60.62985   28.16534             5   \n",
       "3      Säkkijärvi     karelia  60.62985   28.16534            70   \n",
       "4       Virolahti       other  60.52465   27.59480            46   \n",
       "\n",
       "      profession  children_count  migration_count  \n",
       "0         emäntä               1                3  \n",
       "1      autoilija               1                0  \n",
       "2    eläkeläinen               2                2  \n",
       "3       ompelija               2                0  \n",
       "4  sekatyöläinen               4                9  "
      ]
     },
     "execution_count": 114,
     "metadata": {},
     "output_type": "execute_result"
    }
   ],
   "source": [
    "karelia = load_karelia_data()\n",
    "karelia.head()"
   ]
  },
  {
   "cell_type": "code",
   "execution_count": 136,
   "metadata": {},
   "outputs": [
    {
     "data": {
      "text/html": [
       "<div>\n",
       "<style>\n",
       "    .dataframe thead tr:only-child th {\n",
       "        text-align: right;\n",
       "    }\n",
       "\n",
       "    .dataframe thead th {\n",
       "        text-align: left;\n",
       "    }\n",
       "\n",
       "    .dataframe tbody tr th {\n",
       "        vertical-align: top;\n",
       "    }\n",
       "</style>\n",
       "<table border=\"1\" class=\"dataframe\">\n",
       "  <thead>\n",
       "    <tr style=\"text-align: right;\">\n",
       "      <th></th>\n",
       "      <th>birthYear</th>\n",
       "      <th>birthPlaceId</th>\n",
       "      <th>deathYear</th>\n",
       "      <th>latitude</th>\n",
       "      <th>longitude</th>\n",
       "      <th>professionId</th>\n",
       "      <th>children_count</th>\n",
       "      <th>migration_count</th>\n",
       "    </tr>\n",
       "  </thead>\n",
       "  <tbody>\n",
       "    <tr>\n",
       "      <th>count</th>\n",
       "      <td>101682.000000</td>\n",
       "      <td>101758.000000</td>\n",
       "      <td>6096.000000</td>\n",
       "      <td>101758.000000</td>\n",
       "      <td>101758.000000</td>\n",
       "      <td>101758.000000</td>\n",
       "      <td>101758.00000</td>\n",
       "      <td>59083.000000</td>\n",
       "    </tr>\n",
       "    <tr>\n",
       "      <th>mean</th>\n",
       "      <td>1913.400946</td>\n",
       "      <td>202.374644</td>\n",
       "      <td>1956.630085</td>\n",
       "      <td>61.269954</td>\n",
       "      <td>28.759491</td>\n",
       "      <td>347.499538</td>\n",
       "      <td>2.64961</td>\n",
       "      <td>5.558655</td>\n",
       "    </tr>\n",
       "    <tr>\n",
       "      <th>std</th>\n",
       "      <td>11.950529</td>\n",
       "      <td>250.115578</td>\n",
       "      <td>10.550156</td>\n",
       "      <td>1.000423</td>\n",
       "      <td>2.215841</td>\n",
       "      <td>981.847659</td>\n",
       "      <td>2.21718</td>\n",
       "      <td>2.635642</td>\n",
       "    </tr>\n",
       "    <tr>\n",
       "      <th>min</th>\n",
       "      <td>1870.000000</td>\n",
       "      <td>1.000000</td>\n",
       "      <td>1907.000000</td>\n",
       "      <td>59.833330</td>\n",
       "      <td>21.223310</td>\n",
       "      <td>1.000000</td>\n",
       "      <td>0.00000</td>\n",
       "      <td>1.000000</td>\n",
       "    </tr>\n",
       "    <tr>\n",
       "      <th>25%</th>\n",
       "      <td>1905.000000</td>\n",
       "      <td>32.000000</td>\n",
       "      <td>1950.000000</td>\n",
       "      <td>60.564200</td>\n",
       "      <td>28.600000</td>\n",
       "      <td>2.000000</td>\n",
       "      <td>1.00000</td>\n",
       "      <td>4.000000</td>\n",
       "    </tr>\n",
       "    <tr>\n",
       "      <th>50%</th>\n",
       "      <td>1914.000000</td>\n",
       "      <td>126.000000</td>\n",
       "      <td>1960.000000</td>\n",
       "      <td>60.933330</td>\n",
       "      <td>29.301980</td>\n",
       "      <td>14.000000</td>\n",
       "      <td>2.00000</td>\n",
       "      <td>5.000000</td>\n",
       "    </tr>\n",
       "    <tr>\n",
       "      <th>75%</th>\n",
       "      <td>1923.000000</td>\n",
       "      <td>288.000000</td>\n",
       "      <td>1965.000000</td>\n",
       "      <td>61.712330</td>\n",
       "      <td>30.050000</td>\n",
       "      <td>160.000000</td>\n",
       "      <td>4.00000</td>\n",
       "      <td>7.000000</td>\n",
       "    </tr>\n",
       "    <tr>\n",
       "      <th>max</th>\n",
       "      <td>1969.000000</td>\n",
       "      <td>8593.000000</td>\n",
       "      <td>1970.000000</td>\n",
       "      <td>67.110830</td>\n",
       "      <td>32.969760</td>\n",
       "      <td>7156.000000</td>\n",
       "      <td>22.00000</td>\n",
       "      <td>25.000000</td>\n",
       "    </tr>\n",
       "  </tbody>\n",
       "</table>\n",
       "</div>"
      ],
      "text/plain": [
       "           birthYear   birthPlaceId    deathYear       latitude  \\\n",
       "count  101682.000000  101758.000000  6096.000000  101758.000000   \n",
       "mean     1913.400946     202.374644  1956.630085      61.269954   \n",
       "std        11.950529     250.115578    10.550156       1.000423   \n",
       "min      1870.000000       1.000000  1907.000000      59.833330   \n",
       "25%      1905.000000      32.000000  1950.000000      60.564200   \n",
       "50%      1914.000000     126.000000  1960.000000      60.933330   \n",
       "75%      1923.000000     288.000000  1965.000000      61.712330   \n",
       "max      1969.000000    8593.000000  1970.000000      67.110830   \n",
       "\n",
       "           longitude   professionId  children_count  migration_count  \n",
       "count  101758.000000  101758.000000    101758.00000     59083.000000  \n",
       "mean       28.759491     347.499538         2.64961         5.558655  \n",
       "std         2.215841     981.847659         2.21718         2.635642  \n",
       "min        21.223310       1.000000         0.00000         1.000000  \n",
       "25%        28.600000       2.000000         1.00000         4.000000  \n",
       "50%        29.301980      14.000000         2.00000         5.000000  \n",
       "75%        30.050000     160.000000         4.00000         7.000000  \n",
       "max        32.969760    7156.000000        22.00000        25.000000  "
      ]
     },
     "execution_count": 136,
     "metadata": {},
     "output_type": "execute_result"
    }
   ],
   "source": [
    "# Clean the migration count. Persons with 0 value likely should be NaN since all persons in the dataset\n",
    "# most likely migrated\n",
    "karelia['migration_count'] = karelia['migration_count'].replace({0: np.nan})\n",
    "\n",
    "# Summary of numerical values in the dataset\n",
    "karelia.describe()"
   ]
  },
  {
   "cell_type": "markdown",
   "metadata": {},
   "source": [
    "Here we can see some interesting information about birth and death years. Looks like most of the people in the book series were born in 1906 - 1924. The average count of children seems to be also quite a lot higher than in Finland of today **2.73** vs. [1.75)(http://www.stat.fi/til/synt/2016/synt_2016_2017-04-11_tie_001_en.html).\n",
    "\n",
    "Migration count is also interesting value, since it tells us how many times people moved around karelia and Finland. Looks like karelians moved a lot during their life time since the mean count of migrations is almost *5.37*."
   ]
  },
  {
   "cell_type": "code",
   "execution_count": 137,
   "metadata": {},
   "outputs": [
    {
     "data": {
      "image/png": "[encoded data removed]",
      "text/plain": [
       "<matplotlib.figure.Figure at 0x11cdc2cf8>"
      ]
     },
     "metadata": {},
     "output_type": "display_data"
    }
   ],
   "source": [
    "import matplotlib.pyplot as plt\n",
    "karelia[['birthYear', 'children_count', 'deathYear', 'migration_count']].hist(bins=50, figsize=(20,15))\n",
    "plt.show()"
   ]
  },
  {
   "cell_type": "markdown",
   "metadata": {},
   "source": [
    "The distributions look like expected. Year of births and year of deaths are what can be expected from the data set since the matrikel books were created in 1970s so it does not contain any data after 70s. This means that small record in between 80s and 90s in deathYear plot is likely an error."
   ]
  },
  {
   "cell_type": "markdown",
   "metadata": {},
   "source": [
    "## Create test set"
   ]
  },
  {
   "cell_type": "code",
   "execution_count": 138,
   "metadata": {
    "collapsed": true
   },
   "outputs": [],
   "source": [
    "from sklearn.preprocessing import LabelEncoder\n",
    "\n",
    "# Encode categorical attributes to numerical ones\n",
    "encoder = LabelEncoder()\n",
    "sex_cat = pd.Categorical(karelia['sex'])\n",
    "karelia['sex'] = encoder.fit_transform(sex_cat.codes)\n",
    "\n",
    "region_cat = pd.Categorical(karelia['birthRegion'])\n",
    "karelia['birthRegion'] = encoder.fit_transform(region_cat.codes)\n",
    "\n",
    "previous_marriages_cat = pd.Categorical(karelia['previousMarriages'])\n",
    "karelia['previousMarriages'] = encoder.fit_transform(previous_marriages_cat.codes)"
   ]
  },
  {
   "cell_type": "code",
   "execution_count": 139,
   "metadata": {},
   "outputs": [
    {
     "data": {
      "text/html": [
       "<div>\n",
       "<style>\n",
       "    .dataframe thead tr:only-child th {\n",
       "        text-align: right;\n",
       "    }\n",
       "\n",
       "    .dataframe thead th {\n",
       "        text-align: left;\n",
       "    }\n",
       "\n",
       "    .dataframe tbody tr th {\n",
       "        vertical-align: top;\n",
       "    }\n",
       "</style>\n",
       "<table border=\"1\" class=\"dataframe\">\n",
       "  <thead>\n",
       "    <tr style=\"text-align: right;\">\n",
       "      <th></th>\n",
       "      <th>kairaId</th>\n",
       "      <th>sex</th>\n",
       "      <th>primaryPerson</th>\n",
       "      <th>birthYear</th>\n",
       "      <th>birthPlaceId</th>\n",
       "      <th>deathYear</th>\n",
       "      <th>ownHouse</th>\n",
       "      <th>returnedKarelia</th>\n",
       "      <th>previousMarriages</th>\n",
       "      <th>pageNumber</th>\n",
       "      <th>birthPlaceName</th>\n",
       "      <th>birthRegion</th>\n",
       "      <th>latitude</th>\n",
       "      <th>longitude</th>\n",
       "      <th>professionId</th>\n",
       "      <th>profession</th>\n",
       "      <th>children_count</th>\n",
       "      <th>migration_count</th>\n",
       "    </tr>\n",
       "  </thead>\n",
       "  <tbody>\n",
       "  </tbody>\n",
       "</table>\n",
       "</div>"
      ],
      "text/plain": [
       "Empty DataFrame\n",
       "Columns: [kairaId, sex, primaryPerson, birthYear, birthPlaceId, deathYear, ownHouse, returnedKarelia, previousMarriages, pageNumber, birthPlaceName, birthRegion, latitude, longitude, professionId, profession, children_count, migration_count]\n",
       "Index: []"
      ]
     },
     "execution_count": 139,
     "metadata": {},
     "output_type": "execute_result"
    }
   ],
   "source": [
    "import hashlib\n",
    "\n",
    "def test_set_check(identifier, test_ratio, hash):\n",
    "    return hash(identifier.encode('utf-8')).digest()[-1] < 256 * test_ratio\n",
    "\n",
    "def split_train_test_by_id(data, test_ratio, id_column, hash=hashlib.md5):\n",
    "    ids = data[id_column]\n",
    "    in_test_set = ids.apply(lambda id_: test_set_check(id_, test_ratio, hash))\n",
    "    return data.loc[~in_test_set], data.loc[in_test_set]\n",
    "\n",
    "train_set, test_set = split_train_test_by_id(karelia, 0.2, \"kairaId\")\n",
    "\n",
    "test_set.head()"
   ]
  },
  {
   "cell_type": "markdown",
   "metadata": {},
   "source": [
    "We should create a stratified test set based on *sex* of the person to get about same amount of men and women:"
   ]
  },
  {
   "cell_type": "code",
   "execution_count": 140,
   "metadata": {},
   "outputs": [
    {
     "data": {
      "text/html": [
       "<div>\n",
       "<style>\n",
       "    .dataframe thead tr:only-child th {\n",
       "        text-align: right;\n",
       "    }\n",
       "\n",
       "    .dataframe thead th {\n",
       "        text-align: left;\n",
       "    }\n",
       "\n",
       "    .dataframe tbody tr th {\n",
       "        vertical-align: top;\n",
       "    }\n",
       "</style>\n",
       "<table border=\"1\" class=\"dataframe\">\n",
       "  <thead>\n",
       "    <tr style=\"text-align: right;\">\n",
       "      <th></th>\n",
       "      <th>kairaId</th>\n",
       "      <th>sex</th>\n",
       "      <th>primaryPerson</th>\n",
       "      <th>birthYear</th>\n",
       "      <th>birthPlaceId</th>\n",
       "      <th>deathYear</th>\n",
       "      <th>ownHouse</th>\n",
       "      <th>returnedKarelia</th>\n",
       "      <th>previousMarriages</th>\n",
       "      <th>pageNumber</th>\n",
       "      <th>birthPlaceName</th>\n",
       "      <th>birthRegion</th>\n",
       "      <th>latitude</th>\n",
       "      <th>longitude</th>\n",
       "      <th>professionId</th>\n",
       "      <th>profession</th>\n",
       "      <th>children_count</th>\n",
       "      <th>migration_count</th>\n",
       "    </tr>\n",
       "  </thead>\n",
       "  <tbody>\n",
       "    <tr>\n",
       "      <th>3</th>\n",
       "      <td>siirtokarjalaiset_1_692S_1</td>\n",
       "      <td>1</td>\n",
       "      <td>False</td>\n",
       "      <td>1903.0</td>\n",
       "      <td>21</td>\n",
       "      <td>NaN</td>\n",
       "      <td>NaN</td>\n",
       "      <td>unknown</td>\n",
       "      <td>2</td>\n",
       "      <td>47-49</td>\n",
       "      <td>Säkkijärvi</td>\n",
       "      <td>1</td>\n",
       "      <td>60.62985</td>\n",
       "      <td>28.16534</td>\n",
       "      <td>70</td>\n",
       "      <td>ompelija</td>\n",
       "      <td>2</td>\n",
       "      <td>NaN</td>\n",
       "    </tr>\n",
       "    <tr>\n",
       "      <th>4</th>\n",
       "      <td>siirtokarjalaiset_1_693P</td>\n",
       "      <td>1</td>\n",
       "      <td>True</td>\n",
       "      <td>1898.0</td>\n",
       "      <td>369</td>\n",
       "      <td>NaN</td>\n",
       "      <td>False</td>\n",
       "      <td>true</td>\n",
       "      <td>0</td>\n",
       "      <td>47-49</td>\n",
       "      <td>Virolahti</td>\n",
       "      <td>3</td>\n",
       "      <td>60.52465</td>\n",
       "      <td>27.59480</td>\n",
       "      <td>46</td>\n",
       "      <td>sekatyöläinen</td>\n",
       "      <td>4</td>\n",
       "      <td>9.0</td>\n",
       "    </tr>\n",
       "    <tr>\n",
       "      <th>5</th>\n",
       "      <td>siirtokarjalaiset_1_693S_1</td>\n",
       "      <td>2</td>\n",
       "      <td>False</td>\n",
       "      <td>1895.0</td>\n",
       "      <td>21</td>\n",
       "      <td>1954.0</td>\n",
       "      <td>NaN</td>\n",
       "      <td>unknown</td>\n",
       "      <td>2</td>\n",
       "      <td>47-49</td>\n",
       "      <td>Säkkijärvi</td>\n",
       "      <td>1</td>\n",
       "      <td>60.62985</td>\n",
       "      <td>28.16534</td>\n",
       "      <td>92</td>\n",
       "      <td>sekatyömies</td>\n",
       "      <td>4</td>\n",
       "      <td>NaN</td>\n",
       "    </tr>\n",
       "    <tr>\n",
       "      <th>7</th>\n",
       "      <td>siirtokarjalaiset_1_694P</td>\n",
       "      <td>1</td>\n",
       "      <td>True</td>\n",
       "      <td>1924.0</td>\n",
       "      <td>21</td>\n",
       "      <td>NaN</td>\n",
       "      <td>False</td>\n",
       "      <td>true</td>\n",
       "      <td>0</td>\n",
       "      <td>47-49</td>\n",
       "      <td>Säkkijärvi</td>\n",
       "      <td>1</td>\n",
       "      <td>60.62985</td>\n",
       "      <td>28.16534</td>\n",
       "      <td>3</td>\n",
       "      <td>rouva</td>\n",
       "      <td>3</td>\n",
       "      <td>10.0</td>\n",
       "    </tr>\n",
       "    <tr>\n",
       "      <th>8</th>\n",
       "      <td>siirtokarjalaiset_1_694S_1</td>\n",
       "      <td>2</td>\n",
       "      <td>False</td>\n",
       "      <td>1919.0</td>\n",
       "      <td>625</td>\n",
       "      <td>NaN</td>\n",
       "      <td>NaN</td>\n",
       "      <td>unknown</td>\n",
       "      <td>2</td>\n",
       "      <td>47-49</td>\n",
       "      <td>Dragsfjärd</td>\n",
       "      <td>3</td>\n",
       "      <td>60.06667</td>\n",
       "      <td>22.48333</td>\n",
       "      <td>127</td>\n",
       "      <td>muurari</td>\n",
       "      <td>3</td>\n",
       "      <td>NaN</td>\n",
       "    </tr>\n",
       "  </tbody>\n",
       "</table>\n",
       "</div>"
      ],
      "text/plain": [
       "                      kairaId  sex  primaryPerson  birthYear  birthPlaceId  \\\n",
       "3  siirtokarjalaiset_1_692S_1    1          False     1903.0            21   \n",
       "4    siirtokarjalaiset_1_693P    1           True     1898.0           369   \n",
       "5  siirtokarjalaiset_1_693S_1    2          False     1895.0            21   \n",
       "7    siirtokarjalaiset_1_694P    1           True     1924.0            21   \n",
       "8  siirtokarjalaiset_1_694S_1    2          False     1919.0           625   \n",
       "\n",
       "   deathYear ownHouse returnedKarelia  previousMarriages pageNumber  \\\n",
       "3        NaN      NaN         unknown                  2      47-49   \n",
       "4        NaN    False            true                  0      47-49   \n",
       "5     1954.0      NaN         unknown                  2      47-49   \n",
       "7        NaN    False            true                  0      47-49   \n",
       "8        NaN      NaN         unknown                  2      47-49   \n",
       "\n",
       "  birthPlaceName  birthRegion  latitude  longitude  professionId  \\\n",
       "3     Säkkijärvi            1  60.62985   28.16534            70   \n",
       "4      Virolahti            3  60.52465   27.59480            46   \n",
       "5     Säkkijärvi            1  60.62985   28.16534            92   \n",
       "7     Säkkijärvi            1  60.62985   28.16534             3   \n",
       "8     Dragsfjärd            3  60.06667   22.48333           127   \n",
       "\n",
       "      profession  children_count  migration_count  \n",
       "3       ompelija               2              NaN  \n",
       "4  sekatyöläinen               4              9.0  \n",
       "5    sekatyömies               4              NaN  \n",
       "7          rouva               3             10.0  \n",
       "8        muurari               3              NaN  "
      ]
     },
     "execution_count": 140,
     "metadata": {},
     "output_type": "execute_result"
    }
   ],
   "source": [
    "from sklearn.model_selection import StratifiedShuffleSplit\n",
    "\n",
    "split = StratifiedShuffleSplit(n_splits=1, test_size=0.2, random_state=42)\n",
    "\n",
    "for train_index, test_index in split.split(karelia, karelia['sex']):\n",
    "    strat_train_set = karelia.loc[train_index]\n",
    "    strat_test_set = karelia.loc[test_index]\n",
    "    \n",
    "karelia.head()"
   ]
  },
  {
   "cell_type": "code",
   "execution_count": null,
   "metadata": {
    "collapsed": true
   },
   "outputs": [],
   "source": []
  },
  {
   "cell_type": "markdown",
   "metadata": {},
   "source": [
    "## Data visualizations"
   ]
  },
  {
   "cell_type": "code",
   "execution_count": 141,
   "metadata": {
    "collapsed": true
   },
   "outputs": [],
   "source": [
    "karelia = train_set.copy() # Leave the test set out!"
   ]
  },
  {
   "cell_type": "code",
   "execution_count": 142,
   "metadata": {},
   "outputs": [
    {
     "data": {
      "text/plain": [
       "<matplotlib.axes._subplots.AxesSubplot at 0x123be6ef0>"
      ]
     },
     "execution_count": 142,
     "metadata": {},
     "output_type": "execute_result"
    },
    {
     "data": {
      "image/png": "[encoded data removed]",
      "text/plain": [
       "<matplotlib.figure.Figure at 0x128122160>"
      ]
     },
     "metadata": {},
     "output_type": "display_data"
    }
   ],
   "source": [
    "%matplotlib inline\n",
    "karelia.plot(kind='scatter', x='longitude', y='latitude', alpha=0.1)"
   ]
  },
  {
   "cell_type": "markdown",
   "metadata": {},
   "source": [
    "Looks like there is couple outliers in the dataset when it comes to birth locations. Lets filter them out to get a more sensible plot:"
   ]
  },
  {
   "cell_type": "code",
   "execution_count": 143,
   "metadata": {},
   "outputs": [
    {
     "data": {
      "text/plain": [
       "<matplotlib.axes._subplots.AxesSubplot at 0x1282b00b8>"
      ]
     },
     "execution_count": 143,
     "metadata": {},
     "output_type": "execute_result"
    },
    {
     "data": {
      "image/png": "[encoded data removed]",
      "text/plain": [
       "<matplotlib.figure.Figure at 0x12f478a90>"
      ]
     },
     "metadata": {},
     "output_type": "display_data"
    }
   ],
   "source": [
    "mask = (karelia.longitude <= 38.0)\n",
    "karelia = karelia[mask]\n",
    "\n",
    "%matplotlib inline\n",
    "karelia.plot(kind='scatter', x='longitude', y='latitude', alpha=0.1)"
   ]
  },
  {
   "cell_type": "markdown",
   "metadata": {
    "collapsed": true
   },
   "source": [
    "Now the plot looks a bit more sensible though of couse without map in the background it is difficult to see where exactly the points are located geographically but lets forget that for now."
   ]
  },
  {
   "cell_type": "markdown",
   "metadata": {},
   "source": [
    "## Exploring correlations\n",
    "Lets check if there is any interesting linear correlations"
   ]
  },
  {
   "cell_type": "code",
   "execution_count": 144,
   "metadata": {},
   "outputs": [
    {
     "data": {
      "text/plain": [
       "professionId         1.000000\n",
       "birthYear            0.060961\n",
       "sex                  0.049612\n",
       "birthRegion          0.026332\n",
       "deathYear            0.016868\n",
       "primaryPerson        0.012602\n",
       "latitude             0.004789\n",
       "migration_count     -0.002612\n",
       "birthPlaceId        -0.004670\n",
       "previousMarriages   -0.011853\n",
       "longitude           -0.014621\n",
       "children_count      -0.051436\n",
       "Name: professionId, dtype: float64"
      ]
     },
     "execution_count": 144,
     "metadata": {},
     "output_type": "execute_result"
    }
   ],
   "source": [
    "corr_matrix = karelia.corr() # TODO: Why professionId is not included in the corr matrix?\n",
    "corr_matrix[\"professionId\"].sort_values(ascending=False)"
   ]
  },
  {
   "cell_type": "code",
   "execution_count": 146,
   "metadata": {},
   "outputs": [
    {
     "data": {
      "text/plain": [
       "children_count       1.000000\n",
       "previousMarriages    0.071813\n",
       "latitude             0.062708\n",
       "longitude            0.051325\n",
       "sex                  0.047777\n",
       "migration_count      0.044960\n",
       "deathYear            0.005766\n",
       "birthRegion         -0.009685\n",
       "birthPlaceId        -0.010898\n",
       "professionId        -0.051436\n",
       "primaryPerson       -0.058593\n",
       "birthYear           -0.089445\n",
       "Name: children_count, dtype: float64"
      ]
     },
     "execution_count": 146,
     "metadata": {},
     "output_type": "execute_result"
    }
   ],
   "source": [
    "corr_matrix[\"children_count\"].sort_values(ascending=False)"
   ]
  },
  {
   "cell_type": "code",
   "execution_count": null,
   "metadata": {},
   "outputs": [
    {
     "data": {
      "text/plain": [
       "array([[<matplotlib.axes._subplots.AxesSubplot object at 0x123bef7f0>,\n",
       "        <matplotlib.axes._subplots.AxesSubplot object at 0x12791fc18>,\n",
       "        <matplotlib.axes._subplots.AxesSubplot object at 0x128925828>,\n",
       "        <matplotlib.axes._subplots.AxesSubplot object at 0x128955780>,\n",
       "        <matplotlib.axes._subplots.AxesSubplot object at 0x12899aa90>],\n",
       "       [<matplotlib.axes._subplots.AxesSubplot object at 0x128b1e4e0>,\n",
       "        <matplotlib.axes._subplots.AxesSubplot object at 0x128b6b518>,\n",
       "        <matplotlib.axes._subplots.AxesSubplot object at 0x12923de80>,\n",
       "        <matplotlib.axes._subplots.AxesSubplot object at 0x12a4c22e8>,\n",
       "        <matplotlib.axes._subplots.AxesSubplot object at 0x12a505588>],\n",
       "       [<matplotlib.axes._subplots.AxesSubplot object at 0x12a553a90>,\n",
       "        <matplotlib.axes._subplots.AxesSubplot object at 0x12a5983c8>,\n",
       "        <matplotlib.axes._subplots.AxesSubplot object at 0x12da997b8>,\n",
       "        <matplotlib.axes._subplots.AxesSubplot object at 0x12dae0208>,\n",
       "        <matplotlib.axes._subplots.AxesSubplot object at 0x12db2c5f8>],\n",
       "       [<matplotlib.axes._subplots.AxesSubplot object at 0x130246860>,\n",
       "        <matplotlib.axes._subplots.AxesSubplot object at 0x1302c1438>,\n",
       "        <matplotlib.axes._subplots.AxesSubplot object at 0x13093f748>,\n",
       "        <matplotlib.axes._subplots.AxesSubplot object at 0x130984198>,\n",
       "        <matplotlib.axes._subplots.AxesSubplot object at 0x1309d04a8>],\n",
       "       [<matplotlib.axes._subplots.AxesSubplot object at 0x130a10fd0>,\n",
       "        <matplotlib.axes._subplots.AxesSubplot object at 0x130a5bf28>,\n",
       "        <matplotlib.axes._subplots.AxesSubplot object at 0x132bd19b0>,\n",
       "        <matplotlib.axes._subplots.AxesSubplot object at 0x132d41cf8>,\n",
       "        <matplotlib.axes._subplots.AxesSubplot object at 0x132ea60b8>]], dtype=object)"
      ]
     },
     "execution_count": 150,
     "metadata": {},
     "output_type": "execute_result"
    }
   ],
   "source": [
    "from pandas.plotting import scatter_matrix\n",
    "\n",
    "attributes =  [\"professionId\", \"birthYear\", \"longitude\", \"migration_count\", \"children_count\"] # Take only most interesting attributes\n",
    "%matplotlib inline\n",
    "scatter_matrix(karelia[attributes], figsize=(12, 8))"
   ]
  },
  {
   "cell_type": "markdown",
   "metadata": {},
   "source": [
    "Looks like there isn't any particularly strong linear correlations. There does not seem to be any strongly correlating attributes with *child_count* which is a shame since predicting the count of children would have been an interesting ML application."
   ]
  },
  {
   "cell_type": "code",
   "execution_count": null,
   "metadata": {
    "collapsed": true
   },
   "outputs": [],
   "source": []
  },
  {
   "cell_type": "code",
   "execution_count": null,
   "metadata": {
    "collapsed": true
   },
   "outputs": [],
   "source": []
  }
 ],
 "metadata": {
  "kernelspec": {
   "display_name": "Python 3",
   "language": "python",
   "name": "python3"
  },
  "language_info": {
   "codemirror_mode": {
    "name": "ipython",
    "version": 3
   },
   "file_extension": ".py",
   "mimetype": "text/x-python",
   "name": "python",
   "nbconvert_exporter": "python",
   "pygments_lexer": "ipython3",
   "version": "3.5.2"
  }
 },
 "nbformat": 4,
 "nbformat_minor": 2
}
